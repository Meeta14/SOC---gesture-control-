{
 "cells": [
  {
   "cell_type": "code",
   "execution_count": 1,
   "metadata": {},
   "outputs": [],
   "source": [
    "import numpy as np\n",
    "import os\n",
    "import cv2\n",
    "import imutils\n",
    "import random\n",
    "from tqdm import tqdm"
   ]
  },
  {
   "cell_type": "markdown",
   "metadata": {},
   "source": [
    "**Data Augmentation"
   ]
  },
  {
   "cell_type": "code",
   "execution_count": 43,
   "metadata": {},
   "outputs": [],
   "source": [
    "def rotate(image):\n",
    "#         random_ = random.uniform(-80,80)\n",
    "    rotated = imutils.rotate_bound(image, -90)\n",
    "    return rotated\n",
    "\n",
    "def flip(image, vflip=False, hflip=False):\n",
    "    if hflip or vflip:\n",
    "        if hflip and vflip:\n",
    "            c = -1\n",
    "        else:\n",
    "            c = 0 if vflip else 1\n",
    "        image = cv2.flip(image, flipCode=c)\n",
    "    return image"
   ]
  },
  {
   "cell_type": "code",
   "execution_count": 44,
   "metadata": {},
   "outputs": [],
   "source": [
    "def rotate_any(image):\n",
    "    random_ = random.uniform(-80,80)\n",
    "    rotated = imutils.rotate_bound(image, random_)\n",
    "    return rotated"
   ]
  },
  {
   "cell_type": "code",
   "execution_count": 35,
   "metadata": {},
   "outputs": [],
   "source": [
    "def create_training_data():\n",
    "    for category in CATEGORIES:  \n",
    "        path = os.path.join(DATADIR,category)  # create path to dogs and cats\n",
    "        for img in tqdm(os.listdir(path)):  # iterate over each image per dogs and cats\n",
    "            try:\n",
    "                pa = os.path.join(path,img)\n",
    "                image = cv2.imread(pa)\n",
    "                img2 = image.copy()\n",
    "                img_flip = flip(img2, vflip=True, hflip=False)\n",
    "                img_flip2 = flip(img2, vflip=True, hflip=True)\n",
    "                img_rot = rotate(img2)\n",
    "                img_rot1 = rotate_any(img2)\n",
    "                img_rot2 = rotate_any(img2)\n",
    "    \n",
    "                save_path = path\n",
    "                name_int = '\\h' + img\n",
    "                cv2.imwrite(save_path+'%s' %str(name_int)+'_vflip.jpg', img_flip)\n",
    "                cv2.imwrite(save_path+'%s' %str(name_int)+'_flip.jpg', img_flip2)\n",
    "                cv2.imwrite(save_path+'%s' %str(name_int)+'_rot.jpg', img_rot)\n",
    "                cv2.imwrite(save_path+'%s' %str(name_int)+'_rot1.jpg', img_rot1)\n",
    "                cv2.imwrite(save_path+'%s' %str(name_int)+'_rot2.jpg', img_rot2)\n",
    "            except Exception as e: \n",
    "                print(img)\n",
    "#                 print(2)"
   ]
  },
  {
   "cell_type": "code",
   "execution_count": 45,
   "metadata": {},
   "outputs": [
    {
     "name": "stderr",
     "output_type": "stream",
     "text": [
      "100%|██████████████████████████████████████████████████████████████████████████████████| 40/40 [01:08<00:00,  1.70s/it]\n",
      "100%|██████████████████████████████████████████████████████████████████████████████████| 40/40 [00:50<00:00,  1.26s/it]\n",
      "100%|██████████████████████████████████████████████████████████████████████████████████| 40/40 [00:51<00:00,  1.29s/it]\n",
      "100%|██████████████████████████████████████████████████████████████████████████████████| 40/40 [00:51<00:00,  1.28s/it]\n",
      "100%|██████████████████████████████████████████████████████████████████████████████████| 40/40 [00:51<00:00,  1.29s/it]\n"
     ]
    }
   ],
   "source": [
    "DATADIR = r\"C:\\Users\\Meeta Malviya\\Videos\\data2\"\n",
    "CATEGORIES = [\"one\", \"two\", \"three\", \"four\", \"five\"]\n",
    "# CATEGORIES = [\"one\", \"two\"]\n",
    "create_training_data()"
   ]
  }
 ],
 "metadata": {
  "kernelspec": {
   "display_name": "Python 3",
   "language": "python",
   "name": "python3"
  },
  "language_info": {
   "codemirror_mode": {
    "name": "ipython",
    "version": 3
   },
   "file_extension": ".py",
   "mimetype": "text/x-python",
   "name": "python",
   "nbconvert_exporter": "python",
   "pygments_lexer": "ipython3",
   "version": "3.7.4"
  }
 },
 "nbformat": 4,
 "nbformat_minor": 2
}
