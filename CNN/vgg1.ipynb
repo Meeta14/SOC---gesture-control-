{
 "cells": [
  {
   "cell_type": "code",
   "execution_count": 1,
   "metadata": {},
   "outputs": [],
   "source": [
    "import numpy as np\n",
    "import os\n",
    "import cv2\n",
    "import imutils\n",
    "import random\n",
    "from tqdm import tqdm"
   ]
  },
  {
   "cell_type": "markdown",
   "metadata": {},
   "source": [
    "**VGG16"
   ]
  },
  {
   "cell_type": "code",
   "execution_count": 2,
   "metadata": {},
   "outputs": [
    {
     "name": "stderr",
     "output_type": "stream",
     "text": [
      "Using TensorFlow backend.\n"
     ]
    }
   ],
   "source": [
    "import keras\n",
    "from keras.models import Model\n",
    "from keras.layers import Dense\n",
    "from keras import optimizers\n",
    "from keras.preprocessing.image import ImageDataGenerator\n",
    "from keras.preprocessing import image"
   ]
  },
  {
   "cell_type": "code",
   "execution_count": 2,
   "metadata": {},
   "outputs": [],
   "source": [
    "# def gray_to_rgb(img):\n",
    "#     gray = cv2.cvtColor(img, cv2.COLOR_BGR2GRAY)\n",
    "#     return np.repeat(gray, 3, 2)\n",
    "# from skimage import color\n",
    "#, color_mode=\"grayscale\"\n",
    "# image = color.gray2rgb(grayscale_image)"
   ]
  },
  {
   "cell_type": "code",
   "execution_count": 3,
   "metadata": {},
   "outputs": [
    {
     "name": "stdout",
     "output_type": "stream",
     "text": [
      "Found 1272 images belonging to 5 classes.\n",
      "Found 150 images belonging to 5 classes.\n"
     ]
    }
   ],
   "source": [
    "# trdata = ImageDataGenerator(rescale=1./255, preprocessing_function=gray_to_rgb)\n",
    "trdata = ImageDataGenerator(rescale=1./255)\n",
    "traindata = trdata.flow_from_directory(directory=r\"C:/Users/Meeta Malviya/Videos/Vgg/train\",\n",
    "                                       target_size=(224,224))\n",
    "#                                        ,interpolation = 'lanczos:center',\n",
    "#                                        shuffle = True) \n",
    "\n",
    "tsdata = ImageDataGenerator(rescale=1./255)\n",
    "testdata = tsdata.flow_from_directory(directory=r\"C:/Users/Meeta Malviya/Videos/Vgg/test\",\n",
    "                                      target_size=(224,224))\n",
    "#                                       ,interpolation = 'lanczos:center',\n",
    "#                                       shuffle = True)"
   ]
  },
  {
   "cell_type": "code",
   "execution_count": 4,
   "metadata": {},
   "outputs": [
    {
     "name": "stdout",
     "output_type": "stream",
     "text": [
      "Model: \"vgg16\"\n",
      "_________________________________________________________________\n",
      "Layer (type)                 Output Shape              Param #   \n",
      "=================================================================\n",
      "input_1 (InputLayer)         (None, 224, 224, 3)       0         \n",
      "_________________________________________________________________\n",
      "block1_conv1 (Conv2D)        (None, 224, 224, 64)      1792      \n",
      "_________________________________________________________________\n",
      "block1_conv2 (Conv2D)        (None, 224, 224, 64)      36928     \n",
      "_________________________________________________________________\n",
      "block1_pool (MaxPooling2D)   (None, 112, 112, 64)      0         \n",
      "_________________________________________________________________\n",
      "block2_conv1 (Conv2D)        (None, 112, 112, 128)     73856     \n",
      "_________________________________________________________________\n",
      "block2_conv2 (Conv2D)        (None, 112, 112, 128)     147584    \n",
      "_________________________________________________________________\n",
      "block2_pool (MaxPooling2D)   (None, 56, 56, 128)       0         \n",
      "_________________________________________________________________\n",
      "block3_conv1 (Conv2D)        (None, 56, 56, 256)       295168    \n",
      "_________________________________________________________________\n",
      "block3_conv2 (Conv2D)        (None, 56, 56, 256)       590080    \n",
      "_________________________________________________________________\n",
      "block3_conv3 (Conv2D)        (None, 56, 56, 256)       590080    \n",
      "_________________________________________________________________\n",
      "block3_pool (MaxPooling2D)   (None, 28, 28, 256)       0         \n",
      "_________________________________________________________________\n",
      "block4_conv1 (Conv2D)        (None, 28, 28, 512)       1180160   \n",
      "_________________________________________________________________\n",
      "block4_conv2 (Conv2D)        (None, 28, 28, 512)       2359808   \n",
      "_________________________________________________________________\n",
      "block4_conv3 (Conv2D)        (None, 28, 28, 512)       2359808   \n",
      "_________________________________________________________________\n",
      "block4_pool (MaxPooling2D)   (None, 14, 14, 512)       0         \n",
      "_________________________________________________________________\n",
      "block5_conv1 (Conv2D)        (None, 14, 14, 512)       2359808   \n",
      "_________________________________________________________________\n",
      "block5_conv2 (Conv2D)        (None, 14, 14, 512)       2359808   \n",
      "_________________________________________________________________\n",
      "block5_conv3 (Conv2D)        (None, 14, 14, 512)       2359808   \n",
      "_________________________________________________________________\n",
      "block5_pool (MaxPooling2D)   (None, 7, 7, 512)         0         \n",
      "_________________________________________________________________\n",
      "flatten (Flatten)            (None, 25088)             0         \n",
      "_________________________________________________________________\n",
      "fc1 (Dense)                  (None, 4096)              102764544 \n",
      "_________________________________________________________________\n",
      "fc2 (Dense)                  (None, 4096)              16781312  \n",
      "_________________________________________________________________\n",
      "predictions (Dense)          (None, 1000)              4097000   \n",
      "=================================================================\n",
      "Total params: 138,357,544\n",
      "Trainable params: 138,357,544\n",
      "Non-trainable params: 0\n",
      "_________________________________________________________________\n"
     ]
    }
   ],
   "source": [
    "from keras.applications.vgg16 import VGG16\n",
    "vggmodel = VGG16(weights='imagenet', include_top=True)\n",
    "vggmodel.summary()"
   ]
  },
  {
   "cell_type": "code",
   "execution_count": 5,
   "metadata": {},
   "outputs": [],
   "source": [
    "for layers in (vggmodel.layers):\n",
    "#     print(layers)\n",
    "    layers.trainable = False"
   ]
  },
  {
   "cell_type": "code",
   "execution_count": 6,
   "metadata": {},
   "outputs": [],
   "source": [
    "from keras.models import Sequential\n",
    "from keras.models import Model\n",
    "from keras.layers import Dense,Flatten,Dropout\n"
   ]
  },
  {
   "cell_type": "code",
   "execution_count": 7,
   "metadata": {},
   "outputs": [
    {
     "name": "stderr",
     "output_type": "stream",
     "text": [
      "C:\\Users\\Meeta Malviya\\Anaconda3\\lib\\site-packages\\ipykernel_launcher.py:6: UserWarning: Update your `Model` call to the Keras 2 API: `Model(inputs=Tensor(\"in..., outputs=Tensor(\"de...)`\n",
      "  \n"
     ]
    }
   ],
   "source": [
    "X = vggmodel.layers[-4].output\n",
    "X = Dense(460, activation=\"relu\")(X)\n",
    "X = Dropout(.2)(X)\n",
    "predictions = Dense(5, activation=\"softmax\")(X)\n",
    "\n",
    "model_final = Model(input = vggmodel.input, output = predictions)"
   ]
  },
  {
   "cell_type": "code",
   "execution_count": 8,
   "metadata": {},
   "outputs": [
    {
     "name": "stdout",
     "output_type": "stream",
     "text": [
      "Model: \"model_1\"\n",
      "_________________________________________________________________\n",
      "Layer (type)                 Output Shape              Param #   \n",
      "=================================================================\n",
      "input_1 (InputLayer)         (None, 224, 224, 3)       0         \n",
      "_________________________________________________________________\n",
      "block1_conv1 (Conv2D)        (None, 224, 224, 64)      1792      \n",
      "_________________________________________________________________\n",
      "block1_conv2 (Conv2D)        (None, 224, 224, 64)      36928     \n",
      "_________________________________________________________________\n",
      "block1_pool (MaxPooling2D)   (None, 112, 112, 64)      0         \n",
      "_________________________________________________________________\n",
      "block2_conv1 (Conv2D)        (None, 112, 112, 128)     73856     \n",
      "_________________________________________________________________\n",
      "block2_conv2 (Conv2D)        (None, 112, 112, 128)     147584    \n",
      "_________________________________________________________________\n",
      "block2_pool (MaxPooling2D)   (None, 56, 56, 128)       0         \n",
      "_________________________________________________________________\n",
      "block3_conv1 (Conv2D)        (None, 56, 56, 256)       295168    \n",
      "_________________________________________________________________\n",
      "block3_conv2 (Conv2D)        (None, 56, 56, 256)       590080    \n",
      "_________________________________________________________________\n",
      "block3_conv3 (Conv2D)        (None, 56, 56, 256)       590080    \n",
      "_________________________________________________________________\n",
      "block3_pool (MaxPooling2D)   (None, 28, 28, 256)       0         \n",
      "_________________________________________________________________\n",
      "block4_conv1 (Conv2D)        (None, 28, 28, 512)       1180160   \n",
      "_________________________________________________________________\n",
      "block4_conv2 (Conv2D)        (None, 28, 28, 512)       2359808   \n",
      "_________________________________________________________________\n",
      "block4_conv3 (Conv2D)        (None, 28, 28, 512)       2359808   \n",
      "_________________________________________________________________\n",
      "block4_pool (MaxPooling2D)   (None, 14, 14, 512)       0         \n",
      "_________________________________________________________________\n",
      "block5_conv1 (Conv2D)        (None, 14, 14, 512)       2359808   \n",
      "_________________________________________________________________\n",
      "block5_conv2 (Conv2D)        (None, 14, 14, 512)       2359808   \n",
      "_________________________________________________________________\n",
      "block5_conv3 (Conv2D)        (None, 14, 14, 512)       2359808   \n",
      "_________________________________________________________________\n",
      "block5_pool (MaxPooling2D)   (None, 7, 7, 512)         0         \n",
      "_________________________________________________________________\n",
      "flatten (Flatten)            (None, 25088)             0         \n",
      "_________________________________________________________________\n",
      "dense_1 (Dense)              (None, 460)               11540940  \n",
      "_________________________________________________________________\n",
      "dropout_1 (Dropout)          (None, 460)               0         \n",
      "_________________________________________________________________\n",
      "dense_2 (Dense)              (None, 5)                 2305      \n",
      "=================================================================\n",
      "Total params: 26,257,933\n",
      "Trainable params: 11,543,245\n",
      "Non-trainable params: 14,714,688\n",
      "_________________________________________________________________\n"
     ]
    }
   ],
   "source": [
    "model_final.compile(loss = \"categorical_crossentropy\", optimizer = optimizers.SGD(lr=0.0001, momentum=0.9), metrics=[\"accuracy\"])\n",
    "model_final.summary()"
   ]
  },
  {
   "cell_type": "code",
   "execution_count": 9,
   "metadata": {},
   "outputs": [
    {
     "name": "stdout",
     "output_type": "stream",
     "text": [
      "Epoch 1/100\n",
      "2/2 [==============================] - ETA: 26s - loss: 1.9224 - accuracy: 0.125 - 70s 35s/step - loss: 1.8543 - accuracy: 0.0625 - val_loss: 1.5800 - val_accuracy: 0.2188\n"
     ]
    },
    {
     "name": "stderr",
     "output_type": "stream",
     "text": [
      "C:\\Users\\Meeta Malviya\\Anaconda3\\lib\\site-packages\\keras\\callbacks\\callbacks.py:707: RuntimeWarning: Can save best model only with val_acc available, skipping.\n",
      "  'skipping.' % (self.monitor), RuntimeWarning)\n",
      "C:\\Users\\Meeta Malviya\\Anaconda3\\lib\\site-packages\\keras\\callbacks\\callbacks.py:846: RuntimeWarning: Early stopping conditioned on metric `val_acc` which is not available. Available metrics are: val_loss,val_accuracy,loss,accuracy\n",
      "  (self.monitor, ','.join(list(logs.keys()))), RuntimeWarning\n"
     ]
    },
    {
     "name": "stdout",
     "output_type": "stream",
     "text": [
      "Epoch 2/100\n",
      "2/2 [==============================] - ETA: 25s - loss: 1.5480 - accuracy: 0.281 - 75s 37s/step - loss: 1.6304 - accuracy: 0.2656 - val_loss: 1.6316 - val_accuracy: 0.1875\n",
      "Epoch 3/100\n",
      "2/2 [==============================] - ETA: 24s - loss: 1.7932 - accuracy: 0.218 - 73s 36s/step - loss: 1.6876 - accuracy: 0.2188 - val_loss: 1.6692 - val_accuracy: 0.0625\n",
      "Epoch 4/100\n",
      "2/2 [==============================] - ETA: 24s - loss: 1.7602 - accuracy: 0.125 - 73s 36s/step - loss: 1.8258 - accuracy: 0.1875 - val_loss: 1.6410 - val_accuracy: 0.2188\n",
      "Epoch 5/100\n",
      "2/2 [==============================] - ETA: 24s - loss: 1.8771 - accuracy: 0.031 - 65s 33s/step - loss: 1.7606 - accuracy: 0.1406 - val_loss: 1.5956 - val_accuracy: 0.1818\n",
      "Epoch 6/100\n",
      "2/2 [==============================] - ETA: 24s - loss: 1.7687 - accuracy: 0.093 - 72s 36s/step - loss: 1.6890 - accuracy: 0.1406 - val_loss: 1.5965 - val_accuracy: 0.1562\n",
      "Epoch 7/100\n",
      "2/2 [==============================] - ETA: 23s - loss: 1.7368 - accuracy: 0.156 - 66s 33s/step - loss: 1.7691 - accuracy: 0.1607 - val_loss: 1.6943 - val_accuracy: 0.1875\n",
      "Epoch 8/100\n",
      "2/2 [==============================] - ETA: 24s - loss: 1.6891 - accuracy: 0.187 - 72s 36s/step - loss: 1.7257 - accuracy: 0.1875 - val_loss: 1.6283 - val_accuracy: 0.1875\n",
      "Epoch 9/100\n",
      "2/2 [==============================] - ETA: 24s - loss: 1.7486 - accuracy: 0.093 - 73s 36s/step - loss: 1.6749 - accuracy: 0.1875 - val_loss: 1.5335 - val_accuracy: 0.3125\n",
      "Epoch 10/100\n",
      "2/2 [==============================] - ETA: 24s - loss: 1.4333 - accuracy: 0.437 - 65s 33s/step - loss: 1.4717 - accuracy: 0.3438 - val_loss: 1.5541 - val_accuracy: 0.3182\n",
      "Epoch 11/100\n",
      "2/2 [==============================] - ETA: 24s - loss: 1.6216 - accuracy: 0.187 - 72s 36s/step - loss: 1.6212 - accuracy: 0.2188 - val_loss: 1.7079 - val_accuracy: 0.2188\n",
      "Epoch 12/100\n",
      "2/2 [==============================] - ETA: 24s - loss: 1.4903 - accuracy: 0.281 - 73s 36s/step - loss: 1.5186 - accuracy: 0.2500 - val_loss: 1.3887 - val_accuracy: 0.4062\n",
      "Epoch 13/100\n",
      "2/2 [==============================] - ETA: 24s - loss: 1.7093 - accuracy: 0.093 - 73s 36s/step - loss: 1.6699 - accuracy: 0.1719 - val_loss: 1.5290 - val_accuracy: 0.3750\n",
      "Epoch 14/100\n",
      "2/2 [==============================] - ETA: 24s - loss: 1.5357 - accuracy: 0.375 - 64s 32s/step - loss: 1.5726 - accuracy: 0.2656 - val_loss: 1.5638 - val_accuracy: 0.3438\n",
      "Epoch 15/100\n",
      "2/2 [==============================] - ETA: 10s - loss: 1.4352 - accuracy: 0.406 - 29s 15s/step - loss: 1.4953 - accuracy: 0.3750 - val_loss: 1.5474 - val_accuracy: 0.2727\n",
      "Epoch 16/100\n",
      "2/2 [==============================] - ETA: 10s - loss: 1.5865 - accuracy: 0.281 - 32s 16s/step - loss: 1.5523 - accuracy: 0.3125 - val_loss: 1.5497 - val_accuracy: 0.2812\n",
      "Epoch 17/100\n",
      "2/2 [==============================] - ETA: 10s - loss: 1.5412 - accuracy: 0.250 - 32s 16s/step - loss: 1.5130 - accuracy: 0.3125 - val_loss: 1.5806 - val_accuracy: 0.2500\n",
      "Epoch 18/100\n",
      "2/2 [==============================] - ETA: 11s - loss: 1.5421 - accuracy: 0.250 - 34s 17s/step - loss: 1.4849 - accuracy: 0.2812 - val_loss: 1.5458 - val_accuracy: 0.3125\n",
      "Epoch 19/100\n",
      "2/2 [==============================] - ETA: 11s - loss: 1.4093 - accuracy: 0.437 - 36s 18s/step - loss: 1.4603 - accuracy: 0.3125 - val_loss: 1.5881 - val_accuracy: 0.2188\n",
      "Epoch 20/100\n",
      "2/2 [==============================] - ETA: 14s - loss: 1.5212 - accuracy: 0.281 - 42s 21s/step - loss: 1.5072 - accuracy: 0.2812 - val_loss: 1.4612 - val_accuracy: 0.5000\n",
      "Epoch 21/100\n",
      "2/2 [==============================] - ETA: 13s - loss: 1.4948 - accuracy: 0.375 - 38s 19s/step - loss: 1.5213 - accuracy: 0.3750 - val_loss: 1.5120 - val_accuracy: 0.3750\n",
      "Epoch 22/100\n",
      "2/2 [==============================] - ETA: 12s - loss: 1.4028 - accuracy: 0.375 - 38s 19s/step - loss: 1.4501 - accuracy: 0.3281 - val_loss: 1.5456 - val_accuracy: 0.3750\n",
      "Epoch 23/100\n",
      "2/2 [==============================] - ETA: 12s - loss: 1.5078 - accuracy: 0.468 - 38s 19s/step - loss: 1.4190 - accuracy: 0.5312 - val_loss: 1.5044 - val_accuracy: 0.3750\n",
      "Epoch 24/100\n",
      "2/2 [==============================] - ETA: 12s - loss: 1.3441 - accuracy: 0.406 - 40s 20s/step - loss: 1.3726 - accuracy: 0.4219 - val_loss: 1.3739 - val_accuracy: 0.5312\n",
      "Epoch 25/100\n",
      "2/2 [==============================] - ETA: 12s - loss: 1.4296 - accuracy: 0.468 - 37s 18s/step - loss: 1.4295 - accuracy: 0.4531 - val_loss: 1.5173 - val_accuracy: 0.2273\n",
      "Epoch 26/100\n",
      "2/2 [==============================] - ETA: 13s - loss: 1.4370 - accuracy: 0.375 - 40s 20s/step - loss: 1.4118 - accuracy: 0.4062 - val_loss: 1.5422 - val_accuracy: 0.1562\n",
      "Epoch 27/100\n",
      "2/2 [==============================] - ETA: 12s - loss: 1.3561 - accuracy: 0.437 - 36s 18s/step - loss: 1.4019 - accuracy: 0.3906 - val_loss: 1.4936 - val_accuracy: 0.2188\n",
      "Epoch 28/100\n",
      "2/2 [==============================] - ETA: 12s - loss: 1.4392 - accuracy: 0.281 - 37s 18s/step - loss: 1.4129 - accuracy: 0.3594 - val_loss: 1.3969 - val_accuracy: 0.3125\n",
      "Epoch 29/100\n",
      "2/2 [==============================] - ETA: 9s - loss: 1.5388 - accuracy: 0.20 - 33s 17s/step - loss: 1.5082 - accuracy: 0.2321 - val_loss: 1.4231 - val_accuracy: 0.4062\n",
      "Epoch 30/100\n",
      "2/2 [==============================] - ETA: 12s - loss: 1.4200 - accuracy: 0.375 - 34s 17s/step - loss: 1.4670 - accuracy: 0.2812 - val_loss: 1.5132 - val_accuracy: 0.2727\n",
      "Epoch 31/100\n",
      "2/2 [==============================] - ETA: 12s - loss: 1.3771 - accuracy: 0.468 - 36s 18s/step - loss: 1.3870 - accuracy: 0.4844 - val_loss: 1.4883 - val_accuracy: 0.3750\n",
      "Epoch 32/100\n",
      "2/2 [==============================] - ETA: 12s - loss: 1.2738 - accuracy: 0.562 - 37s 18s/step - loss: 1.3752 - accuracy: 0.5000 - val_loss: 1.3626 - val_accuracy: 0.5625\n",
      "Epoch 33/100\n",
      "2/2 [==============================] - ETA: 12s - loss: 1.4266 - accuracy: 0.500 - 38s 19s/step - loss: 1.4263 - accuracy: 0.4375 - val_loss: 1.5068 - val_accuracy: 0.4062\n",
      "Epoch 34/100\n",
      "2/2 [==============================] - ETA: 13s - loss: 1.3628 - accuracy: 0.531 - 40s 20s/step - loss: 1.4100 - accuracy: 0.4688 - val_loss: 1.5449 - val_accuracy: 0.2812\n",
      "Epoch 35/100\n",
      "2/2 [==============================] - ETA: 13s - loss: 1.3109 - accuracy: 0.468 - 37s 19s/step - loss: 1.3224 - accuracy: 0.5469 - val_loss: 1.4945 - val_accuracy: 0.4091\n",
      "Epoch 36/100\n",
      "2/2 [==============================] - ETA: 13s - loss: 1.4765 - accuracy: 0.437 - 38s 19s/step - loss: 1.3548 - accuracy: 0.5312 - val_loss: 1.3846 - val_accuracy: 0.3750\n",
      "Epoch 37/100\n",
      "2/2 [==============================] - ETA: 12s - loss: 1.3537 - accuracy: 0.437 - 36s 18s/step - loss: 1.3796 - accuracy: 0.4062 - val_loss: 1.4259 - val_accuracy: 0.3750\n",
      "Epoch 38/100\n",
      "2/2 [==============================] - ETA: 11s - loss: 1.2879 - accuracy: 0.531 - 36s 18s/step - loss: 1.3110 - accuracy: 0.5781 - val_loss: 1.3434 - val_accuracy: 0.5938\n",
      "Epoch 39/100\n",
      "2/2 [==============================] - ETA: 12s - loss: 1.3776 - accuracy: 0.500 - 36s 18s/step - loss: 1.3894 - accuracy: 0.3750 - val_loss: 1.4980 - val_accuracy: 0.3438\n",
      "Epoch 40/100\n",
      "2/2 [==============================] - ETA: 12s - loss: 1.3087 - accuracy: 0.531 - 34s 17s/step - loss: 1.2743 - accuracy: 0.5625 - val_loss: 1.5523 - val_accuracy: 0.2727\n",
      "Epoch 41/100\n",
      "2/2 [==============================] - ETA: 11s - loss: 1.2745 - accuracy: 0.687 - 35s 18s/step - loss: 1.2988 - accuracy: 0.5469 - val_loss: 1.3460 - val_accuracy: 0.4375\n",
      "Epoch 42/100\n",
      "2/2 [==============================] - ETA: 12s - loss: 1.3359 - accuracy: 0.531 - 37s 18s/step - loss: 1.2658 - accuracy: 0.5938 - val_loss: 1.3674 - val_accuracy: 0.4688\n",
      "Epoch 43/100\n",
      "2/2 [==============================] - ETA: 12s - loss: 1.3133 - accuracy: 0.531 - 39s 20s/step - loss: 1.2993 - accuracy: 0.5625 - val_loss: 1.4863 - val_accuracy: 0.4062\n",
      "Epoch 44/100\n",
      "2/2 [==============================] - ETA: 14s - loss: 1.2916 - accuracy: 0.500 - 41s 20s/step - loss: 1.2766 - accuracy: 0.5625 - val_loss: 1.4664 - val_accuracy: 0.3438\n",
      "Epoch 45/100\n",
      "2/2 [==============================] - ETA: 12s - loss: 1.2182 - accuracy: 0.531 - 35s 17s/step - loss: 1.2228 - accuracy: 0.5781 - val_loss: 1.3453 - val_accuracy: 0.4091\n",
      "Epoch 46/100\n",
      "2/2 [==============================] - ETA: 12s - loss: 1.2877 - accuracy: 0.593 - 39s 19s/step - loss: 1.3018 - accuracy: 0.5781 - val_loss: 1.3551 - val_accuracy: 0.4062\n",
      "Epoch 47/100\n",
      "2/2 [==============================] - ETA: 12s - loss: 1.3392 - accuracy: 0.468 - 40s 20s/step - loss: 1.2960 - accuracy: 0.5625 - val_loss: 1.4958 - val_accuracy: 0.3125\n",
      "Epoch 48/100\n",
      "2/2 [==============================] - ETA: 13s - loss: 1.2161 - accuracy: 0.593 - 38s 19s/step - loss: 1.2433 - accuracy: 0.5469 - val_loss: 1.4019 - val_accuracy: 0.5000\n",
      "Epoch 49/100\n",
      "2/2 [==============================] - ETA: 12s - loss: 1.2642 - accuracy: 0.593 - 39s 20s/step - loss: 1.2586 - accuracy: 0.6094 - val_loss: 1.5102 - val_accuracy: 0.2812\n",
      "Epoch 50/100\n",
      "2/2 [==============================] - ETA: 15s - loss: 1.1861 - accuracy: 0.718 - 39s 19s/step - loss: 1.2282 - accuracy: 0.6250 - val_loss: 1.2223 - val_accuracy: 0.7727\n",
      "Epoch 51/100\n",
      "2/2 [==============================] - ETA: 12s - loss: 1.3209 - accuracy: 0.531 - 40s 20s/step - loss: 1.3539 - accuracy: 0.4844 - val_loss: 1.4204 - val_accuracy: 0.4688\n",
      "Epoch 52/100\n",
      "2/2 [==============================] - ETA: 13s - loss: 1.2499 - accuracy: 0.687 - 39s 19s/step - loss: 1.2252 - accuracy: 0.6250 - val_loss: 1.3955 - val_accuracy: 0.4062\n",
      "Epoch 53/100\n",
      "2/2 [==============================] - ETA: 13s - loss: 1.2455 - accuracy: 0.593 - 40s 20s/step - loss: 1.2365 - accuracy: 0.5938 - val_loss: 1.4469 - val_accuracy: 0.4062\n",
      "Epoch 54/100\n",
      "2/2 [==============================] - ETA: 12s - loss: 1.1600 - accuracy: 0.625 - 38s 19s/step - loss: 1.2341 - accuracy: 0.6250 - val_loss: 1.3084 - val_accuracy: 0.4688\n",
      "Epoch 55/100\n",
      "2/2 [==============================] - ETA: 13s - loss: 1.2420 - accuracy: 0.531 - 35s 18s/step - loss: 1.2491 - accuracy: 0.5469 - val_loss: 1.2727 - val_accuracy: 0.4091\n",
      "Epoch 56/100\n",
      "2/2 [==============================] - ETA: 12s - loss: 1.1569 - accuracy: 0.656 - 34s 17s/step - loss: 1.2440 - accuracy: 0.6250 - val_loss: 1.4556 - val_accuracy: 0.4375\n",
      "Epoch 57/100\n",
      "2/2 [==============================] - ETA: 12s - loss: 1.1423 - accuracy: 0.656 - 39s 19s/step - loss: 1.1406 - accuracy: 0.6875 - val_loss: 1.4365 - val_accuracy: 0.5000\n",
      "Epoch 58/100\n",
      "2/2 [==============================] - ETA: 12s - loss: 1.2149 - accuracy: 0.687 - 37s 19s/step - loss: 1.1649 - accuracy: 0.7031 - val_loss: 1.3486 - val_accuracy: 0.4062\n",
      "Epoch 59/100\n",
      "2/2 [==============================] - ETA: 13s - loss: 1.1819 - accuracy: 0.750 - 40s 20s/step - loss: 1.1624 - accuracy: 0.7344 - val_loss: 1.2962 - val_accuracy: 0.5938\n",
      "Epoch 60/100\n",
      "2/2 [==============================] - ETA: 13s - loss: 1.1652 - accuracy: 0.656 - 38s 19s/step - loss: 1.1553 - accuracy: 0.6562 - val_loss: 1.2438 - val_accuracy: 0.5455\n",
      "Epoch 61/100\n",
      "2/2 [==============================] - ETA: 12s - loss: 1.1808 - accuracy: 0.625 - 39s 20s/step - loss: 1.1009 - accuracy: 0.7188 - val_loss: 1.4094 - val_accuracy: 0.4062\n",
      "Epoch 62/100\n",
      "2/2 [==============================] - ETA: 12s - loss: 1.1143 - accuracy: 0.718 - 41s 21s/step - loss: 1.1308 - accuracy: 0.7188 - val_loss: 1.2325 - val_accuracy: 0.6250\n",
      "Epoch 63/100\n",
      "2/2 [==============================] - ETA: 14s - loss: 1.2376 - accuracy: 0.593 - 40s 20s/step - loss: 1.2162 - accuracy: 0.6250 - val_loss: 1.3534 - val_accuracy: 0.5000\n",
      "Epoch 64/100\n",
      "2/2 [==============================] - ETA: 9s - loss: 1.1739 - accuracy: 0.70 - 33s 17s/step - loss: 1.1811 - accuracy: 0.6429 - val_loss: 1.3196 - val_accuracy: 0.4688\n",
      "Epoch 65/100\n",
      "2/2 [==============================] - ETA: 11s - loss: 1.1530 - accuracy: 0.718 - 34s 17s/step - loss: 1.1457 - accuracy: 0.7188 - val_loss: 1.3920 - val_accuracy: 0.5000\n",
      "Epoch 66/100\n",
      "2/2 [==============================] - ETA: 12s - loss: 1.1548 - accuracy: 0.687 - 36s 18s/step - loss: 1.1612 - accuracy: 0.6719 - val_loss: 1.3190 - val_accuracy: 0.4688\n",
      "Epoch 67/100\n",
      "2/2 [==============================] - ETA: 12s - loss: 1.1302 - accuracy: 0.718 - 36s 18s/step - loss: 1.1160 - accuracy: 0.7031 - val_loss: 1.2497 - val_accuracy: 0.5625\n",
      "Epoch 68/100\n",
      "2/2 [==============================] - ETA: 11s - loss: 1.0695 - accuracy: 0.750 - 36s 18s/step - loss: 1.1137 - accuracy: 0.7188 - val_loss: 1.3209 - val_accuracy: 0.5625\n",
      "Epoch 69/100\n",
      "2/2 [==============================] - ETA: 12s - loss: 1.0931 - accuracy: 0.593 - 36s 18s/step - loss: 1.0988 - accuracy: 0.6875 - val_loss: 1.3987 - val_accuracy: 0.3438\n",
      "Epoch 70/100\n",
      "2/2 [==============================] - ETA: 12s - loss: 1.2050 - accuracy: 0.562 - 34s 17s/step - loss: 1.1943 - accuracy: 0.6562 - val_loss: 1.2435 - val_accuracy: 0.5909\n",
      "Epoch 71/100\n",
      "2/2 [==============================] - ETA: 11s - loss: 1.1082 - accuracy: 0.750 - 36s 18s/step - loss: 1.1345 - accuracy: 0.7031 - val_loss: 1.3347 - val_accuracy: 0.5312\n",
      "Epoch 72/100\n",
      "2/2 [==============================] - ETA: 12s - loss: 1.1065 - accuracy: 0.656 - 35s 18s/step - loss: 1.1105 - accuracy: 0.7344 - val_loss: 1.2487 - val_accuracy: 0.5625\n",
      "Epoch 73/100\n",
      "2/2 [==============================] - ETA: 12s - loss: 1.0827 - accuracy: 0.750 - 36s 18s/step - loss: 1.0546 - accuracy: 0.7344 - val_loss: 1.3921 - val_accuracy: 0.4375\n",
      "Epoch 74/100\n",
      "2/2 [==============================] - ETA: 12s - loss: 1.0759 - accuracy: 0.687 - 40s 20s/step - loss: 1.1186 - accuracy: 0.7344 - val_loss: 1.3291 - val_accuracy: 0.4375\n",
      "Epoch 75/100\n",
      "2/2 [==============================] - ETA: 15s - loss: 1.0411 - accuracy: 0.781 - 41s 21s/step - loss: 1.0692 - accuracy: 0.7500 - val_loss: 1.2833 - val_accuracy: 0.5000\n",
      "Epoch 76/100\n",
      "2/2 [==============================] - ETA: 14s - loss: 1.1906 - accuracy: 0.656 - 39s 20s/step - loss: 1.1712 - accuracy: 0.6719 - val_loss: 1.3585 - val_accuracy: 0.3438\n",
      "Epoch 77/100\n",
      "2/2 [==============================] - ETA: 11s - loss: 1.1225 - accuracy: 0.656 - 36s 18s/step - loss: 1.1165 - accuracy: 0.7031 - val_loss: 1.0693 - val_accuracy: 0.7188\n",
      "Epoch 78/100\n",
      "2/2 [==============================] - ETA: 12s - loss: 1.0241 - accuracy: 0.750 - 36s 18s/step - loss: 1.0494 - accuracy: 0.7500 - val_loss: 1.3805 - val_accuracy: 0.3750\n",
      "Epoch 79/100\n",
      "2/2 [==============================] - ETA: 11s - loss: 1.0253 - accuracy: 0.812 - 36s 18s/step - loss: 1.0488 - accuracy: 0.7500 - val_loss: 1.3412 - val_accuracy: 0.5000\n",
      "Epoch 80/100\n",
      "2/2 [==============================] - ETA: 12s - loss: 1.1394 - accuracy: 0.718 - 34s 17s/step - loss: 1.0867 - accuracy: 0.7344 - val_loss: 1.4017 - val_accuracy: 0.4091\n",
      "Epoch 81/100\n",
      "2/2 [==============================] - ETA: 12s - loss: 0.9634 - accuracy: 0.750 - 36s 18s/step - loss: 1.0582 - accuracy: 0.6719 - val_loss: 1.3869 - val_accuracy: 0.5000\n",
      "Epoch 82/100\n",
      "2/2 [==============================] - ETA: 12s - loss: 1.1227 - accuracy: 0.625 - 38s 19s/step - loss: 1.1411 - accuracy: 0.6094 - val_loss: 1.3073 - val_accuracy: 0.5000\n",
      "Epoch 83/100\n",
      "2/2 [==============================] - ETA: 14s - loss: 1.0370 - accuracy: 0.750 - 39s 20s/step - loss: 1.0442 - accuracy: 0.7031 - val_loss: 1.2908 - val_accuracy: 0.4062\n",
      "Epoch 84/100\n",
      "2/2 [==============================] - ETA: 12s - loss: 0.8917 - accuracy: 0.781 - 36s 18s/step - loss: 1.0145 - accuracy: 0.6719 - val_loss: 1.4019 - val_accuracy: 0.4375\n",
      "Epoch 85/100\n",
      "2/2 [==============================] - ETA: 12s - loss: 1.0618 - accuracy: 0.593 - 33s 17s/step - loss: 1.1279 - accuracy: 0.5469 - val_loss: 1.2175 - val_accuracy: 0.5455\n",
      "Epoch 86/100\n",
      "2/2 [==============================] - ETA: 11s - loss: 1.0645 - accuracy: 0.687 - 36s 18s/step - loss: 1.0034 - accuracy: 0.7969 - val_loss: 1.1151 - val_accuracy: 0.5625\n",
      "Epoch 87/100\n",
      "2/2 [==============================] - ETA: 13s - loss: 1.0318 - accuracy: 0.656 - 40s 20s/step - loss: 0.9987 - accuracy: 0.7812 - val_loss: 1.2584 - val_accuracy: 0.5312\n",
      "Epoch 88/100\n",
      "2/2 [==============================] - ETA: 13s - loss: 1.0191 - accuracy: 0.781 - 59s 30s/step - loss: 1.0004 - accuracy: 0.7969 - val_loss: 1.3216 - val_accuracy: 0.4688\n",
      "Epoch 89/100\n",
      "2/2 [==============================] - ETA: 23s - loss: 1.0655 - accuracy: 0.750 - 71s 36s/step - loss: 1.0484 - accuracy: 0.7031 - val_loss: 1.2283 - val_accuracy: 0.5938\n",
      "Epoch 90/100\n"
     ]
    },
    {
     "name": "stdout",
     "output_type": "stream",
     "text": [
      "2/2 [==============================] - ETA: 23s - loss: 0.9140 - accuracy: 0.781 - 63s 31s/step - loss: 1.0068 - accuracy: 0.6875 - val_loss: 1.3492 - val_accuracy: 0.4545\n",
      "Epoch 91/100\n",
      "2/2 [==============================] - ETA: 23s - loss: 1.0073 - accuracy: 0.656 - 71s 36s/step - loss: 1.0436 - accuracy: 0.6250 - val_loss: 1.2583 - val_accuracy: 0.5625\n",
      "Epoch 92/100\n",
      "2/2 [==============================] - ETA: 23s - loss: 1.1162 - accuracy: 0.625 - 71s 36s/step - loss: 1.0520 - accuracy: 0.7188 - val_loss: 1.2135 - val_accuracy: 0.6250\n",
      "Epoch 93/100\n",
      "2/2 [==============================] - ETA: 23s - loss: 1.0903 - accuracy: 0.656 - 71s 36s/step - loss: 1.0889 - accuracy: 0.6250 - val_loss: 1.2960 - val_accuracy: 0.5000\n",
      "Epoch 94/100\n",
      "2/2 [==============================] - ETA: 23s - loss: 1.0613 - accuracy: 0.750 - 71s 36s/step - loss: 1.0070 - accuracy: 0.7656 - val_loss: 1.2925 - val_accuracy: 0.4688\n",
      "Epoch 95/100\n",
      "2/2 [==============================] - ETA: 23s - loss: 0.9627 - accuracy: 0.843 - 64s 32s/step - loss: 1.0073 - accuracy: 0.7656 - val_loss: 1.1533 - val_accuracy: 0.4545\n",
      "Epoch 96/100\n",
      "2/2 [==============================] - ETA: 23s - loss: 1.1068 - accuracy: 0.656 - 71s 36s/step - loss: 1.0963 - accuracy: 0.6562 - val_loss: 1.2040 - val_accuracy: 0.6250\n",
      "Epoch 97/100\n",
      "2/2 [==============================] - ETA: 23s - loss: 0.9881 - accuracy: 0.812 - 71s 36s/step - loss: 1.0143 - accuracy: 0.7656 - val_loss: 1.2780 - val_accuracy: 0.4375\n",
      "Epoch 98/100\n",
      "2/2 [==============================] - ETA: 23s - loss: 0.9479 - accuracy: 0.812 - 65s 33s/step - loss: 0.9681 - accuracy: 0.8036 - val_loss: 1.1831 - val_accuracy: 0.5938\n",
      "Epoch 99/100\n",
      "2/2 [==============================] - ETA: 23s - loss: 0.9442 - accuracy: 0.812 - 70s 35s/step - loss: 1.0364 - accuracy: 0.7500 - val_loss: 1.2065 - val_accuracy: 0.5625\n",
      "Epoch 100/100\n",
      "2/2 [==============================] - ETA: 23s - loss: 1.0581 - accuracy: 0.750 - 63s 32s/step - loss: 0.9845 - accuracy: 0.7500 - val_loss: 1.5175 - val_accuracy: 0.3636\n"
     ]
    }
   ],
   "source": [
    "from keras.callbacks import ModelCheckpoint, EarlyStopping\n",
    "\n",
    "checkpoint = ModelCheckpoint(\"vgg16_1.h5\", monitor='val_acc', verbose=1, save_best_only=True, save_weights_only=False, mode='auto', period=1)\n",
    "early = EarlyStopping(monitor='val_acc', min_delta=0, patience=40, verbose=1, mode='auto')\n",
    "model_final.fit_generator(generator= traindata, steps_per_epoch= 2, epochs= 100, validation_data= testdata, validation_steps=1, callbacks=[checkpoint,early])\n",
    "model_final.save_weights(\"vgg16_1.h5\")"
   ]
  },
  {
   "cell_type": "code",
   "execution_count": 10,
   "metadata": {
    "scrolled": true
   },
   "outputs": [
    {
     "name": "stderr",
     "output_type": "stream",
     "text": [
      "C:\\Users\\Meeta Malviya\\Anaconda3\\lib\\site-packages\\sklearn\\externals\\joblib\\__init__.py:15: DeprecationWarning: sklearn.externals.joblib is deprecated in 0.21 and will be removed in 0.23. Please import this functionality directly from joblib, which can be installed with: pip install joblib. If this warning is raised when loading pickled models, you may need to re-serialize those models with scikit-learn 0.21+.\n",
      "  warnings.warn(msg, category=DeprecationWarning)\n"
     ]
    },
    {
     "data": {
      "text/plain": [
       "['VGG16_model_senthil.pkl']"
      ]
     },
     "execution_count": 10,
     "metadata": {},
     "output_type": "execute_result"
    }
   ],
   "source": [
    "from sklearn.externals import joblib \n",
    "  \n",
    "# Save the model as a pickle in a file \n",
    "joblib.dump(model_final, 'VGG16_model.pkl') "
   ]
  },
  {
   "cell_type": "code",
   "execution_count": null,
   "metadata": {},
   "outputs": [],
   "source": [
    "knn_from_joblib = joblib.load('VGG16_model.pkl')"
   ]
  },
  {
   "cell_type": "code",
   "execution_count": null,
   "metadata": {},
   "outputs": [],
   "source": []
  }
 ],
 "metadata": {
  "kernelspec": {
   "display_name": "Python 3",
   "language": "python",
   "name": "python3"
  },
  "language_info": {
   "codemirror_mode": {
    "name": "ipython",
    "version": 3
   },
   "file_extension": ".py",
   "mimetype": "text/x-python",
   "name": "python",
   "nbconvert_exporter": "python",
   "pygments_lexer": "ipython3",
   "version": "3.7.4"
  }
 },
 "nbformat": 4,
 "nbformat_minor": 2
}
